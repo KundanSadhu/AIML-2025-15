{
  "nbformat": 4,
  "nbformat_minor": 0,
  "metadata": {
    "colab": {
      "provenance": [],
      "authorship_tag": "ABX9TyMumil3/+Wh5pNNyA6DYyhU",
      "include_colab_link": true
    },
    "kernelspec": {
      "name": "python3",
      "display_name": "Python 3"
    },
    "language_info": {
      "name": "python"
    }
  },
  "cells": [
    {
      "cell_type": "markdown",
      "metadata": {
        "id": "view-in-github",
        "colab_type": "text"
      },
      "source": [
        "<a href=\"https://colab.research.google.com/github/KundanSadhu/AIML-2025-15/blob/main/2303A51998_27_15.ipynb\" target=\"_parent\"><img src=\"https://colab.research.google.com/assets/colab-badge.svg\" alt=\"Open In Colab\"/></a>"
      ]
    },
    {
      "cell_type": "markdown",
      "source": [
        "Prediction of Air Quality in Italian Cities\n",
        "1. Identify the top 5 reasons for air quality\n",
        "2. Identify the Day of week with most air quality issues\n",
        "3. Find the max and min air quality levels\n",
        "4. Identify the highest and lowest temperatures of air quality\n",
        "5. Identify the highest educational qualification of the employees.\n",
        "6. Apply either Classification Model or Clustering Model to evaluate the dataset"
      ],
      "metadata": {
        "id": "WQOKkChsHGpK"
      }
    },
    {
      "cell_type": "markdown",
      "source": [],
      "metadata": {
        "id": "NAJOn43HHM6A"
      }
    },
    {
      "cell_type": "markdown",
      "source": [
        "Air Qualit\n",
        "1. Identify the top 5 reasons for air quality"
      ],
      "metadata": {
        "id": "DyKGS6BbHQS7"
      }
    },
    {
      "cell_type": "code",
      "execution_count": 1,
      "metadata": {
        "colab": {
          "base_uri": "https://localhost:8080/"
        },
        "id": "3L3LG-wVGwuC",
        "outputId": "20eea3fd-ee60-449c-9cf4-a52261b55a25"
      },
      "outputs": [
        {
          "output_type": "stream",
          "name": "stdout",
          "text": [
            "Top 5 Reasons for Air Quality Issues:\n",
            "\n",
            "1. Industrial Emissions\n",
            "   Details: Pollutants like SO2, NOx, CO, and PM from factories and power plants.\n",
            "\n",
            "2. Vehicular Emissions\n",
            "   Details: CO, NOx, and VOCs from cars, trucks, and other vehicles.\n",
            "\n",
            "3. Burning of Fossil Fuels\n",
            "   Details: CO2, NOx, and PM from coal, oil, and natural gas combustion.\n",
            "\n",
            "4. Natural Sources\n",
            "   Details: Wildfires, volcanic eruptions, and dust storms releasing PM and greenhouse gases.\n",
            "\n",
            "5. Agricultural Activities\n",
            "   Details: Methane, ammonia, and pollutants from livestock and crop burning.\n",
            "\n"
          ]
        }
      ],
      "source": [
        "# Define the top 5 reasons for air quality issues\n",
        "air_quality_reasons = [\n",
        "    {\"Reason\": \"Industrial Emissions\", \"Details\": \"Pollutants like SO2, NOx, CO, and PM from factories and power plants.\"},\n",
        "    {\"Reason\": \"Vehicular Emissions\", \"Details\": \"CO, NOx, and VOCs from cars, trucks, and other vehicles.\"},\n",
        "    {\"Reason\": \"Burning of Fossil Fuels\", \"Details\": \"CO2, NOx, and PM from coal, oil, and natural gas combustion.\"},\n",
        "    {\"Reason\": \"Natural Sources\", \"Details\": \"Wildfires, volcanic eruptions, and dust storms releasing PM and greenhouse gases.\"},\n",
        "    {\"Reason\": \"Agricultural Activities\", \"Details\": \"Methane, ammonia, and pollutants from livestock and crop burning.\"}\n",
        "]\n",
        "\n",
        "# Print the top 5 reasons with details\n",
        "print(\"Top 5 Reasons for Air Quality Issues:\\n\")\n",
        "for index, reason in enumerate(air_quality_reasons, start=1):\n",
        "    print(f\"{index}. {reason['Reason']}\")\n",
        "    print(f\"   Details: {reason['Details']}\\n\")\n"
      ]
    },
    {
      "cell_type": "markdown",
      "source": [
        "2.1dentify the Day of week with most air quality issues"
      ],
      "metadata": {
        "id": "tW7xfbW5H0rX"
      }
    },
    {
      "cell_type": "code",
      "source": [
        "import pandas as pd\n",
        "\n",
        "# Sample air quality data: Replace with your actual data\n",
        "data = {\n",
        "    \"Date\": [\"2024-11-20\", \"2024-11-21\", \"2024-11-22\", \"2024-11-23\", \"2024-11-24\", \"2024-11-25\", \"2024-11-26\"],\n",
        "    \"AQI\": [120, 150, 90, 200, 180, 160, 110]  # Air Quality Index (higher = worse)\n",
        "}\n",
        "\n",
        "# Create a DataFrame\n",
        "df = pd.DataFrame(data)\n",
        "\n",
        "# Convert the 'Date' column to datetime format\n",
        "df['Date'] = pd.to_datetime(df['Date'])\n",
        "\n",
        "# Extract the day of the week\n",
        "df['DayOfWeek'] = df['Date'].dt.day_name()\n",
        "\n",
        "# Calculate the average AQI for each day of the week\n",
        "avg_aqi_by_day = df.groupby('DayOfWeek')['AQI'].mean()\n",
        "\n",
        "# Identify the day with the highest average AQI\n",
        "worst_day = avg_aqi_by_day.idxmax()\n",
        "worst_aqi = avg_aqi_by_day.max()\n",
        "\n",
        "# Print results\n",
        "print(\"Average AQI by Day of Week:\")\n",
        "print(avg_aqi_by_day)\n",
        "print(f\"\\nThe day with the most air quality issues is {worst_day} with an average AQI of {worst_aqi}.\")\n"
      ],
      "metadata": {
        "colab": {
          "base_uri": "https://localhost:8080/"
        },
        "id": "d3u9J9zsHvyb",
        "outputId": "0c27b3d7-e785-4e18-ad3d-94f1cf5be343"
      },
      "execution_count": 2,
      "outputs": [
        {
          "output_type": "stream",
          "name": "stdout",
          "text": [
            "Average AQI by Day of Week:\n",
            "DayOfWeek\n",
            "Friday        90.0\n",
            "Monday       160.0\n",
            "Saturday     200.0\n",
            "Sunday       180.0\n",
            "Thursday     150.0\n",
            "Tuesday      110.0\n",
            "Wednesday    120.0\n",
            "Name: AQI, dtype: float64\n",
            "\n",
            "The day with the most air quality issues is Saturday with an average AQI of 200.0.\n"
          ]
        }
      ]
    },
    {
      "cell_type": "markdown",
      "source": [
        "3.Find the max and min air quality level"
      ],
      "metadata": {
        "id": "pqAB1ZH2IIrz"
      }
    },
    {
      "cell_type": "code",
      "source": [
        "import pandas as pd\n",
        "\n",
        "# Sample air quality data: Replace with your actual data\n",
        "data = {\n",
        "    \"Date\": [\"2024-11-20\", \"2024-11-21\", \"2024-11-22\", \"2024-11-23\", \"2024-11-24\", \"2024-11-25\", \"2024-11-26\"],\n",
        "    \"AQI\": [120, 150, 90, 200, 180, 160, 110]  # Air Quality Index (higher = worse)\n",
        "}\n",
        "\n",
        "# Create a DataFrame\n",
        "df = pd.DataFrame(data)\n",
        "\n",
        "# Find the maximum and minimum AQI values\n",
        "max_aqi = df['AQI'].max()\n",
        "min_aqi = df['AQI'].min()\n",
        "\n",
        "# Find the dates associated with the max and min AQI values\n",
        "max_aqi_date = df[df['AQI'] == max_aqi]['Date'].values[0]\n",
        "min_aqi_date = df[df['AQI'] == min_aqi]['Date'].values[0]\n",
        "\n",
        "# Print results\n",
        "print(f\"The maximum AQI is {max_aqi} on {max_aqi_date}.\")\n",
        "print(f\"The minimum AQI is {min_aqi} on {min_aqi_date}.\")\n"
      ],
      "metadata": {
        "colab": {
          "base_uri": "https://localhost:8080/"
        },
        "id": "NNk5r8NIIJ2L",
        "outputId": "6bd9fa92-00e4-435e-c335-6aa553e09ff1"
      },
      "execution_count": 3,
      "outputs": [
        {
          "output_type": "stream",
          "name": "stdout",
          "text": [
            "The maximum AQI is 200 on 2024-11-23.\n",
            "The minimum AQI is 90 on 2024-11-22.\n"
          ]
        }
      ]
    },
    {
      "cell_type": "markdown",
      "source": [
        "4.1dentify the highest and lowest temperatures of\n",
        "air qualit"
      ],
      "metadata": {
        "id": "zIxpc1Q6IRo_"
      }
    },
    {
      "cell_type": "code",
      "source": [
        "import pandas as pd\n",
        "\n",
        "# Sample data: Replace this with your actual data\n",
        "data = {\n",
        "    \"Date\": [\"2024-11-20\", \"2024-11-21\", \"2024-11-22\", \"2024-11-23\", \"2024-11-24\", \"2024-11-25\", \"2024-11-26\"],\n",
        "    \"Temperature\": [30, 28, 35, 32, 31, 29, 33],  # Temperatures in Celsius\n",
        "    \"AQI\": [120, 150, 90, 200, 180, 160, 110]     # Air Quality Index (higher = worse)\n",
        "}\n",
        "\n",
        "# Create a DataFrame\n",
        "df = pd.DataFrame(data)\n",
        "\n",
        "# Find the highest and lowest temperatures\n",
        "max_temp = df['Temperature'].max()\n",
        "min_temp = df['Temperature'].min()\n",
        "\n",
        "# Find the dates associated with the max and min temperatures\n",
        "max_temp_date = df[df['Temperature'] == max_temp]['Date'].values[0]\n",
        "min_temp_date = df[df['Temperature'] == min_temp]['Date'].values[0]\n",
        "\n",
        "# Print results\n",
        "print(f\"The highest temperature is {max_temp}°C on {max_temp_date}.\")\n",
        "print(f\"The lowest temperature is {min_temp}°C on {min_temp_date}.\")\n"
      ],
      "metadata": {
        "colab": {
          "base_uri": "https://localhost:8080/"
        },
        "id": "VDZkQ3xuISj2",
        "outputId": "30f2ad93-c487-4bfb-b8af-5c1a43eadb56"
      },
      "execution_count": 4,
      "outputs": [
        {
          "output_type": "stream",
          "name": "stdout",
          "text": [
            "The highest temperature is 35°C on 2024-11-22.\n",
            "The lowest temperature is 28°C on 2024-11-21.\n"
          ]
        }
      ]
    },
    {
      "cell_type": "markdown",
      "source": [
        "5.1dentify the highest educational qualification of the employees"
      ],
      "metadata": {
        "id": "0xFHp1avI11h"
      }
    },
    {
      "cell_type": "markdown",
      "source": [],
      "metadata": {
        "id": "7_AMH79gIZBA"
      }
    },
    {
      "cell_type": "code",
      "source": [
        "import pandas as pd\n",
        "\n",
        "# Sample employee data: Replace this with your actual data\n",
        "data = {\n",
        "    \"EmployeeID\": [101, 102, 103, 104, 105],\n",
        "    \"Name\": [\"Alice\", \"Bob\", \"Charlie\", \"Diana\", \"Edward\"],\n",
        "    \"Education\": [\"Bachelor's\", \"Master's\", \"PhD\", \"High School\", \"Master's\"]\n",
        "}\n",
        "\n",
        "# Define a hierarchy for educational qualifications\n",
        "education_hierarchy = {\n",
        "    \"High School\": 1,\n",
        "    \"Bachelor's\": 2,\n",
        "    \"Master's\": 3,\n",
        "    \"PhD\": 4\n",
        "}\n",
        "\n",
        "# Create a DataFrame\n",
        "df = pd.DataFrame(data)\n",
        "\n",
        "# Map the education hierarchy to the dataset\n",
        "df['EducationLevel'] = df['Education'].map(education_hierarchy)\n",
        "\n",
        "# Find the highest qualification\n",
        "highest_education_level = df['EducationLevel'].max()\n",
        "highest_qualification = df[df['EducationLevel'] == highest_education_level]['Education'].values[0]\n",
        "\n",
        "# Find employees with the highest qualification\n",
        "employees_with_highest_qualification = df[df['EducationLevel'] == highest_education_level]['Name'].tolist()\n",
        "\n",
        "# Print results\n",
        "print(f\"The highest educational qualification is: {highest_qualification}.\")\n",
        "print(\"Employees with the highest qualification:\")\n",
        "print(\", \".join(employees_with_highest_qualification))\n"
      ],
      "metadata": {
        "colab": {
          "base_uri": "https://localhost:8080/"
        },
        "id": "xpxDTWC-IwVt",
        "outputId": "aa1a9867-9a23-4834-c6ed-3058faa367b1"
      },
      "execution_count": 5,
      "outputs": [
        {
          "output_type": "stream",
          "name": "stdout",
          "text": [
            "The highest educational qualification is: PhD.\n",
            "Employees with the highest qualification:\n",
            "Charlie\n"
          ]
        }
      ]
    },
    {
      "cell_type": "markdown",
      "source": [
        "6.Apply either Classification Model or Clustering\n",
        "Model to evaluate the dataset"
      ],
      "metadata": {
        "id": "ZNGbYuwYJEgC"
      }
    },
    {
      "cell_type": "code",
      "source": [
        "import pandas as pd\n",
        "from sklearn.cluster import KMeans\n",
        "from sklearn.preprocessing import StandardScaler\n",
        "import matplotlib.pyplot as plt\n",
        "\n",
        "# Sample data: Replace this with your actual dataset\n",
        "data = {\n",
        "    \"Feature1\": [1.2, 2.3, 3.1, 4.0, 5.2, 6.3, 7.1, 8.0, 9.5],\n",
        "    \"Feature2\": [9.0, 8.1, 7.5, 6.3, 5.4, 4.2, 3.8, 2.5, 1.1]\n",
        "}\n",
        "\n",
        "# Create a DataFrame\n",
        "df = pd.DataFrame(data)\n",
        "\n",
        "# Standardize the features for better clustering\n",
        "scaler = StandardScaler()\n",
        "scaled_data = scaler.fit_transform(df)\n",
        "\n",
        "# Apply K-Means clustering\n",
        "kmeans = KMeans(n_clusters=3, random_state=42)  # Set n_clusters to desired number of clusters\n",
        "df['Cluster'] = kmeans.fit_predict(scaled_data)\n",
        "\n",
        "# Print the clustering results\n",
        "print(\"Clustering Results:\")\n",
        "print(df)\n",
        "\n",
        "# Visualize the clusters\n",
        "plt.figure(figsize=(8, 6))\n",
        "plt.scatter(df['Feature1'], df['Feature2'], c=df['Cluster'], cmap='viridis', s=100)\n",
        "plt.xlabel('Feature1')\n",
        "plt.ylabel('Feature2')\n",
        "plt.title('K-Means Clustering')\n",
        "plt.colorbar(label='Cluster')\n",
        "plt.show()\n"
      ],
      "metadata": {
        "colab": {
          "base_uri": "https://localhost:8080/",
          "height": 755
        },
        "id": "49tjxOq_JFSK",
        "outputId": "388db626-1258-4701-9052-945979b18945"
      },
      "execution_count": 7,
      "outputs": [
        {
          "output_type": "stream",
          "name": "stdout",
          "text": [
            "Clustering Results:\n",
            "   Feature1  Feature2  Cluster\n",
            "0       1.2       9.0        2\n",
            "1       2.3       8.1        2\n",
            "2       3.1       7.5        2\n",
            "3       4.0       6.3        0\n",
            "4       5.2       5.4        0\n",
            "5       6.3       4.2        0\n",
            "6       7.1       3.8        1\n",
            "7       8.0       2.5        1\n",
            "8       9.5       1.1        1\n"
          ]
        },
        {
          "output_type": "display_data",
          "data": {
            "text/plain": [
              "<Figure size 800x600 with 2 Axes>"
            ],
            "image/png": "[encoded data removed]"
          },
          "metadata": {}
        }
      ]
    }
  ]
}